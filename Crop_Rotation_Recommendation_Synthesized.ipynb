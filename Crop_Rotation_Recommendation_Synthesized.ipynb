{
  "nbformat": 4,
  "nbformat_minor": 0,
  "metadata": {
    "colab": {
      "provenance": [],
      "authorship_tag": "ABX9TyNkr/ToQoXfEp0Yna4tCmZw",
      "include_colab_link": true
    },
    "kernelspec": {
      "name": "python3",
      "display_name": "Python 3"
    },
    "language_info": {
      "name": "python"
    }
  },
  "cells": [
    {
      "cell_type": "markdown",
      "metadata": {
        "id": "view-in-github",
        "colab_type": "text"
      },
      "source": [
        "<a href=\"https://colab.research.google.com/github/J-B-Mugundh/plant-disease-detection-api/blob/main/Crop_Rotation_Recommendation_Synthesized.ipynb\" target=\"_parent\"><img src=\"https://colab.research.google.com/assets/colab-badge.svg\" alt=\"Open In Colab\"/></a>"
      ]
    },
    {
      "cell_type": "code",
      "execution_count": 1,
      "metadata": {
        "id": "fMwn1EI5XWkJ"
      },
      "outputs": [],
      "source": [
        "import pandas as pd\n",
        "from sklearn.model_selection import train_test_split\n",
        "from sklearn.ensemble import RandomForestClassifier\n",
        "from sklearn.metrics import accuracy_score, confusion_matrix, classification_report\n",
        "import joblib\n",
        "\n",
        "# Define mappings for crops and soil types\n",
        "crop_mapping = {\n",
        "    'Corn': 0,\n",
        "    'Rice': 1,\n",
        "    'Maize': 2,\n",
        "    'Peach': 3,\n",
        "    'Bell Pepper': 4,\n",
        "    'Potato': 5,\n",
        "    'Soybean': 6,\n",
        "    'Tomato': 7,\n",
        "    'Chilli': 8\n",
        "}\n",
        "\n",
        "soil_type_mapping = {\n",
        "    'Loamy': 0,\n",
        "    'Clayey': 1,\n",
        "    'Sandy': 2,\n",
        "    'Saline': 3\n",
        "}"
      ]
    },
    {
      "cell_type": "code",
      "source": [
        "# Load dataset\n",
        "data = pd.read_csv('crop_rotation_dataset_syn.csv')\n",
        "\n",
        "# Check for unmapped crops\n",
        "unmapped_crops = set(data['Recommended Crop']) - set(crop_mapping.keys())\n",
        "if unmapped_crops:\n",
        "    print(\"Unmapped crops found:\", unmapped_crops)\n",
        "\n",
        "# Map the recommended crops to integers\n",
        "data['Recommended Crop'] = data['Recommended Crop'].map(crop_mapping)\n",
        "\n",
        "# Drop rows with NaN values in 'Recommended Crop'\n",
        "data = data.dropna(subset=['Recommended Crop'])\n",
        "\n",
        "# Map the previous crops and soil types\n",
        "data['Previous Crop'] = data['Previous Crop'].map(crop_mapping)\n",
        "data['Soil Type'] = data['Soil Type'].map(soil_type_mapping)\n",
        "\n",
        "# Drop rows with NaN values after mapping\n",
        "data = data.dropna()\n",
        "\n",
        "# Define features and target variable\n",
        "X = data.drop('Recommended Crop', axis=1)\n",
        "y = data['Recommended Crop']\n",
        "\n",
        "# Split the dataset into training and testing sets\n",
        "X_train, X_test, y_train, y_test = train_test_split(X, y, test_size=0.2, random_state=42)\n",
        "\n",
        "# Initialize and train the model\n",
        "model = RandomForestClassifier(n_estimators=100, random_state=42)\n",
        "model.fit(X_train, y_train)\n",
        "\n",
        "# Make predictions\n",
        "y_pred = model.predict(X_test)\n"
      ],
      "metadata": {
        "id": "N071tibzXgaf"
      },
      "execution_count": 2,
      "outputs": []
    },
    {
      "cell_type": "code",
      "source": [
        "# Function to evaluate the model\n",
        "def model_details():\n",
        "    accuracy = accuracy_score(y_test, y_pred)\n",
        "    confusion = confusion_matrix(y_test, y_pred)\n",
        "    report = classification_report(y_test, y_pred)\n",
        "\n",
        "    print(f\"Accuracy: {accuracy * 100:.2f}%\")\n",
        "    print(\"Confusion Matrix:\")\n",
        "    print(confusion)\n",
        "    print(\"Classification Report:\")\n",
        "    print(report)"
      ],
      "metadata": {
        "id": "cZmVwOAUXl9x"
      },
      "execution_count": 3,
      "outputs": []
    },
    {
      "cell_type": "code",
      "source": [
        "# Evaluate the model\n",
        "model_details()\n",
        "\n",
        "# Save the model and mappings for future use\n",
        "joblib.dump(model, 'crop_recommendation_model.pkl')\n",
        "joblib.dump(crop_mapping, 'crop_mapping.pkl')\n",
        "joblib.dump(soil_type_mapping, 'soil_type_mapping.pkl')"
      ],
      "metadata": {
        "colab": {
          "base_uri": "https://localhost:8080/"
        },
        "id": "n6ku_W2FXneK",
        "outputId": "f8851a6e-28e5-4a53-b863-8c1a036c5995"
      },
      "execution_count": 4,
      "outputs": [
        {
          "output_type": "stream",
          "name": "stdout",
          "text": [
            "Accuracy: 82.72%\n",
            "Confusion Matrix:\n",
            "[[ 513   16   27   27   28   21   16   24   12]\n",
            " [  32 1493   17   17   20   42   25   26   13]\n",
            " [  31   13 1097   28   29   20   19   29   22]\n",
            " [  38   23   23   25   33   22   21   18   25]\n",
            " [  33   21   23   29  270   25   23   22   13]\n",
            " [  25   27   23   27   16 1413   23   29   23]\n",
            " [  24   22   27   25   25   24 1441   25   17]\n",
            " [  14   23   25   30   26   24   28  997   28]\n",
            " [  26   19   23   27   35   23   30   19 1023]]\n",
            "Classification Report:\n",
            "              precision    recall  f1-score   support\n",
            "\n",
            "           0       0.70      0.75      0.72       684\n",
            "           1       0.90      0.89      0.89      1685\n",
            "           2       0.85      0.85      0.85      1288\n",
            "           3       0.11      0.11      0.11       228\n",
            "           4       0.56      0.59      0.57       459\n",
            "           5       0.88      0.88      0.88      1606\n",
            "           6       0.89      0.88      0.89      1630\n",
            "           7       0.84      0.83      0.84      1195\n",
            "           8       0.87      0.84      0.85      1225\n",
            "\n",
            "    accuracy                           0.83     10000\n",
            "   macro avg       0.73      0.74      0.73     10000\n",
            "weighted avg       0.83      0.83      0.83     10000\n",
            "\n"
          ]
        },
        {
          "output_type": "execute_result",
          "data": {
            "text/plain": [
              "['soil_type_mapping.pkl']"
            ]
          },
          "metadata": {},
          "execution_count": 4
        }
      ]
    },
    {
      "cell_type": "code",
      "source": [
        "import lightgbm as lgb\n",
        "from sklearn.metrics import accuracy_score, confusion_matrix, classification_report\n",
        "import joblib"
      ],
      "metadata": {
        "id": "McFelajYdO0Z",
        "colab": {
          "base_uri": "https://localhost:8080/"
        },
        "outputId": "4fdae9b7-5488-440d-930a-1599ef4c925b"
      },
      "execution_count": 5,
      "outputs": [
        {
          "output_type": "stream",
          "name": "stderr",
          "text": [
            "/usr/local/lib/python3.10/dist-packages/dask/dataframe/__init__.py:42: FutureWarning: \n",
            "Dask dataframe query planning is disabled because dask-expr is not installed.\n",
            "\n",
            "You can install it with `pip install dask[dataframe]` or `conda install dask`.\n",
            "This will raise in a future version.\n",
            "\n",
            "  warnings.warn(msg, FutureWarning)\n"
          ]
        }
      ]
    },
    {
      "cell_type": "code",
      "source": [
        "# Train using LightGBM\n",
        "model = lgb.LGBMClassifier(n_estimators=100, random_state=42)\n",
        "model.fit(X_train, y_train)\n",
        "\n",
        "# Make predictions\n",
        "y_pred = model.predict(X_test)\n",
        "\n",
        "# Function to evaluate the model\n",
        "def model_details():\n",
        "    accuracy = accuracy_score(y_test, y_pred)\n",
        "    confusion = confusion_matrix(y_test, y_pred)\n",
        "    report = classification_report(y_test, y_pred)\n",
        "\n",
        "    print(f\"Accuracy: {accuracy * 100:.2f}%\")\n",
        "    print(\"Confusion Matrix:\")\n",
        "    print(confusion)\n",
        "    print(\"Classification Report:\")\n",
        "    print(report)\n",
        "\n",
        "# Evaluate the model\n",
        "model_details()\n",
        "\n",
        "# Save the model and mappings for future use\n",
        "joblib.dump(model, 'crop_recommendation_lightgbm_model.pkl')\n",
        "joblib.dump(crop_mapping, 'crop_mapping_lightgbm_model.pkl')\n",
        "joblib.dump(soil_type_mapping, 'soil_type_mapping_lightgbm_model.pkl')\n"
      ],
      "metadata": {
        "colab": {
          "base_uri": "https://localhost:8080/"
        },
        "id": "PbvhyBfwX3PG",
        "outputId": "22e71189-dd22-4f47-d029-f1a7e9cac8df"
      },
      "execution_count": 6,
      "outputs": [
        {
          "output_type": "stream",
          "name": "stdout",
          "text": [
            "[LightGBM] [Warning] Found whitespace in feature_names, replace with underlines\n",
            "[LightGBM] [Info] Auto-choosing row-wise multi-threading, the overhead of testing was 0.002603 seconds.\n",
            "You can set `force_row_wise=true` to remove the overhead.\n",
            "And if memory is not enough, you can set `force_col_wise=true`.\n",
            "[LightGBM] [Info] Total Bins 1033\n",
            "[LightGBM] [Info] Number of data points in the train set: 40000, number of used features: 6\n",
            "[LightGBM] [Info] Start training from score -2.670393\n",
            "[LightGBM] [Info] Start training from score -1.758228\n",
            "[LightGBM] [Info] Start training from score -2.064159\n",
            "[LightGBM] [Info] Start training from score -3.832750\n",
            "[LightGBM] [Info] Start training from score -3.056013\n",
            "[LightGBM] [Info] Start training from score -1.823405\n",
            "[LightGBM] [Info] Start training from score -1.828527\n",
            "[LightGBM] [Info] Start training from score -2.108253\n",
            "[LightGBM] [Info] Start training from score -2.126953\n",
            "Accuracy: 82.66%\n",
            "Confusion Matrix:\n",
            "[[ 504   22   34   19   26   20   16   23   20]\n",
            " [  26 1489   25   20   17   35   32   28   13]\n",
            " [  29   16 1103   22   17   32   23   29   17]\n",
            " [  25   19   18   33   31   29   25   28   20]\n",
            " [  31   16   28   40  263   23   20   24   14]\n",
            " [  27   22   26   19   34 1412   21   30   15]\n",
            " [  23   10   39   32   13   28 1431   32   22]\n",
            " [  21   25   23   25   22   31   28 1008   12]\n",
            " [  26   15   30   30   28   25   20   28 1023]]\n",
            "Classification Report:\n",
            "              precision    recall  f1-score   support\n",
            "\n",
            "           0       0.71      0.74      0.72       684\n",
            "           1       0.91      0.88      0.90      1685\n",
            "           2       0.83      0.86      0.84      1288\n",
            "           3       0.14      0.14      0.14       228\n",
            "           4       0.58      0.57      0.58       459\n",
            "           5       0.86      0.88      0.87      1606\n",
            "           6       0.89      0.88      0.88      1630\n",
            "           7       0.82      0.84      0.83      1195\n",
            "           8       0.88      0.84      0.86      1225\n",
            "\n",
            "    accuracy                           0.83     10000\n",
            "   macro avg       0.74      0.74      0.74     10000\n",
            "weighted avg       0.83      0.83      0.83     10000\n",
            "\n"
          ]
        },
        {
          "output_type": "execute_result",
          "data": {
            "text/plain": [
              "['soil_type_mapping_lightgbm_model.pkl']"
            ]
          },
          "metadata": {},
          "execution_count": 6
        }
      ]
    },
    {
      "cell_type": "code",
      "source": [
        "import xgboost as xgb\n",
        "from sklearn.metrics import accuracy_score, confusion_matrix, classification_report\n",
        "import joblib"
      ],
      "metadata": {
        "id": "ugT5eHHCdiNA"
      },
      "execution_count": 7,
      "outputs": []
    },
    {
      "cell_type": "code",
      "source": [
        "# Train using XGBoost\n",
        "model = xgb.XGBClassifier(n_estimators=100, random_state=42)\n",
        "model.fit(X_train, y_train)\n",
        "\n",
        "# Make predictions\n",
        "y_pred = model.predict(X_test)\n",
        "\n",
        "# Function to evaluate the model\n",
        "def model_details():\n",
        "    accuracy = accuracy_score(y_test, y_pred)\n",
        "    confusion = confusion_matrix(y_test, y_pred)\n",
        "    report = classification_report(y_test, y_pred)\n",
        "\n",
        "    print(f\"Accuracy: {accuracy * 100:.2f}%\")\n",
        "    print(\"Confusion Matrix:\")\n",
        "    print(confusion)\n",
        "    print(\"Classification Report:\")\n",
        "    print(report)\n",
        "\n",
        "# Evaluate the model\n",
        "model_details()\n",
        "\n",
        "# Save the model and mappings for future use\n",
        "joblib.dump(model, 'crop_recommendation_xgboost_model.pkl')\n",
        "joblib.dump(crop_mapping, 'crop_mapping_xgboost_model.pkl')\n",
        "joblib.dump(soil_type_mapping, 'soil_type_mapping_xgboost_model.pkl')\n"
      ],
      "metadata": {
        "colab": {
          "base_uri": "https://localhost:8080/"
        },
        "id": "2-NP_gGJdFIC",
        "outputId": "ac3684c4-9a81-4d46-a8d8-8d1680e017f8"
      },
      "execution_count": 8,
      "outputs": [
        {
          "output_type": "stream",
          "name": "stdout",
          "text": [
            "Accuracy: 82.69%\n",
            "Confusion Matrix:\n",
            "[[ 497   24   31   15   33   28   21   22   13]\n",
            " [  22 1496   37   25   15   37   29   17    7]\n",
            " [  33   15 1102   23   21   21   28   24   21]\n",
            " [  18   23   31   28   31   25   23   28   21]\n",
            " [  21   14   29   33  275   24   19   27   17]\n",
            " [  25   21   32   15   26 1410   23   30   24]\n",
            " [  19   13   34   32   23   20 1437   31   21]\n",
            " [  19   20   25   20   29   29   31 1006   16]\n",
            " [  19   22   26   30   23   34   27   26 1018]]\n",
            "Classification Report:\n",
            "              precision    recall  f1-score   support\n",
            "\n",
            "           0       0.74      0.73      0.73       684\n",
            "           1       0.91      0.89      0.90      1685\n",
            "           2       0.82      0.86      0.84      1288\n",
            "           3       0.13      0.12      0.12       228\n",
            "           4       0.58      0.60      0.59       459\n",
            "           5       0.87      0.88      0.87      1606\n",
            "           6       0.88      0.88      0.88      1630\n",
            "           7       0.83      0.84      0.84      1195\n",
            "           8       0.88      0.83      0.85      1225\n",
            "\n",
            "    accuracy                           0.83     10000\n",
            "   macro avg       0.74      0.74      0.74     10000\n",
            "weighted avg       0.83      0.83      0.83     10000\n",
            "\n"
          ]
        },
        {
          "output_type": "execute_result",
          "data": {
            "text/plain": [
              "['soil_type_mapping_xgboost_model.pkl']"
            ]
          },
          "metadata": {},
          "execution_count": 8
        }
      ]
    },
    {
      "cell_type": "code",
      "source": [
        "import pandas as pd\n",
        "import tensorflow as tf\n",
        "from tensorflow import keras\n",
        "from tensorflow.keras import layers\n",
        "from sklearn.model_selection import train_test_split\n",
        "from sklearn.preprocessing import StandardScaler\n",
        "from sklearn.metrics import accuracy_score, confusion_matrix, classification_report\n",
        "import joblib"
      ],
      "metadata": {
        "id": "MbZZO7-PuU43"
      },
      "execution_count": 9,
      "outputs": []
    },
    {
      "cell_type": "code",
      "source": [
        "# Standardize the feature set for neural network training\n",
        "scaler = StandardScaler()\n",
        "X_scaled = scaler.fit_transform(X)\n",
        "\n",
        "# Split the dataset into training and testing sets\n",
        "X_train, X_test, y_train, y_test = train_test_split(X_scaled, y, test_size=0.2, random_state=42)\n",
        "\n",
        "# Build a more complex neural network model with embedding for categorical features\n",
        "input_layer = layers.Input(shape=(X_train.shape[1],))\n",
        "\n",
        "# Input layers for categorical features (e.g., 'Previous Crop' and 'Soil Type')\n",
        "previous_crop_input = layers.Input(shape=(1,), dtype=tf.int32)\n",
        "soil_type_input = layers.Input(shape=(1,), dtype=tf.int32)\n",
        "\n",
        "# Embedding layers for categorical variables\n",
        "previous_crop_embedding = layers.Embedding(input_dim=len(crop_mapping), output_dim=10)(previous_crop_input)\n",
        "soil_type_embedding = layers.Embedding(input_dim=len(soil_type_mapping), output_dim=5)(soil_type_input)\n",
        "\n",
        "# Flatten the embedding layers\n",
        "previous_crop_flat = layers.Flatten()(previous_crop_embedding)\n",
        "soil_type_flat = layers.Flatten()(soil_type_embedding)\n",
        "\n",
        "# Concatenate the embeddings with the numeric features\n",
        "concatenated = layers.concatenate([input_layer, previous_crop_flat, soil_type_flat])\n",
        "\n",
        "# Fully connected layers\n",
        "dense1 = layers.Dense(128, activation='relu')(concatenated)\n",
        "dense2 = layers.Dense(256, activation='relu')(dense1)\n",
        "dense3 = layers.Dense(128, activation='relu')(dense2)\n",
        "\n",
        "# Output layer with softmax activation for classification\n",
        "output_layer = layers.Dense(9, activation='softmax')(dense3)\n",
        "\n",
        "# Build and compile the model\n",
        "model = keras.Model(inputs=[input_layer, previous_crop_input, soil_type_input], outputs=output_layer)\n",
        "model.compile(optimizer='adam', loss='sparse_categorical_crossentropy', metrics=['accuracy'])\n",
        "\n",
        "# Train the model\n",
        "model.fit([X_train, X_train[:, 0], X_train[:, 1]], y_train, epochs=50, batch_size=32, validation_data=([X_test, X_test[:, 0], X_test[:, 1]], y_test))\n",
        "\n",
        "# Make predictions\n",
        "y_pred = model.predict([X_test, X_test[:, 0], X_test[:, 1]])\n",
        "y_pred = y_pred.argmax(axis=1)  # Convert probabilities to class labels\n",
        "\n",
        "# Function to evaluate the model\n",
        "def model_details():\n",
        "    accuracy = accuracy_score(y_test, y_pred)\n",
        "    confusion = confusion_matrix(y_test, y_pred)\n",
        "    report = classification_report(y_test, y_pred)\n",
        "\n",
        "    print(f\"Accuracy: {accuracy * 100:.2f}%\")\n",
        "    print(\"Confusion Matrix:\")\n",
        "    print(confusion)\n",
        "    print(\"Classification Report:\")\n",
        "    print(report)\n",
        "\n",
        "# Evaluate the model\n",
        "model_details()\n",
        "\n",
        "# Save the model and mappings for future use\n",
        "model.save('crop_recommendation_complex_nn_model.h5')\n",
        "joblib.dump(scaler, 'scaler.pkl')\n",
        "joblib.dump(crop_mapping, 'crop_mapping_complex_nn_model.pkl')\n",
        "joblib.dump(soil_type_mapping, 'soil_type_mapping_complex_nn_model.pkl')"
      ],
      "metadata": {
        "id": "WKIIPF9zt9XM",
        "colab": {
          "base_uri": "https://localhost:8080/"
        },
        "outputId": "42b42db6-1c4f-4198-a580-2bc8929e871c"
      },
      "execution_count": 10,
      "outputs": [
        {
          "output_type": "stream",
          "name": "stdout",
          "text": [
            "Epoch 1/50\n",
            "\u001b[1m1250/1250\u001b[0m \u001b[32m━━━━━━━━━━━━━━━━━━━━\u001b[0m\u001b[37m\u001b[0m \u001b[1m6s\u001b[0m 3ms/step - accuracy: 0.7270 - loss: 0.7905 - val_accuracy: 0.8109 - val_loss: 0.4792\n",
            "Epoch 2/50\n",
            "\u001b[1m1250/1250\u001b[0m \u001b[32m━━━━━━━━━━━━━━━━━━━━\u001b[0m\u001b[37m\u001b[0m \u001b[1m3s\u001b[0m 3ms/step - accuracy: 0.8137 - loss: 0.4789 - val_accuracy: 0.8152 - val_loss: 0.4678\n",
            "Epoch 3/50\n",
            "\u001b[1m1250/1250\u001b[0m \u001b[32m━━━━━━━━━━━━━━━━━━━━\u001b[0m\u001b[37m\u001b[0m \u001b[1m3s\u001b[0m 3ms/step - accuracy: 0.8219 - loss: 0.4574 - val_accuracy: 0.8149 - val_loss: 0.4675\n",
            "Epoch 4/50\n",
            "\u001b[1m1250/1250\u001b[0m \u001b[32m━━━━━━━━━━━━━━━━━━━━\u001b[0m\u001b[37m\u001b[0m \u001b[1m3s\u001b[0m 3ms/step - accuracy: 0.8197 - loss: 0.4576 - val_accuracy: 0.8118 - val_loss: 0.4815\n",
            "Epoch 5/50\n",
            "\u001b[1m1250/1250\u001b[0m \u001b[32m━━━━━━━━━━━━━━━━━━━━\u001b[0m\u001b[37m\u001b[0m \u001b[1m4s\u001b[0m 3ms/step - accuracy: 0.8224 - loss: 0.4538 - val_accuracy: 0.8202 - val_loss: 0.4551\n",
            "Epoch 6/50\n",
            "\u001b[1m1250/1250\u001b[0m \u001b[32m━━━━━━━━━━━━━━━━━━━━\u001b[0m\u001b[37m\u001b[0m \u001b[1m4s\u001b[0m 3ms/step - accuracy: 0.8278 - loss: 0.4389 - val_accuracy: 0.8204 - val_loss: 0.4538\n",
            "Epoch 7/50\n",
            "\u001b[1m1250/1250\u001b[0m \u001b[32m━━━━━━━━━━━━━━━━━━━━\u001b[0m\u001b[37m\u001b[0m \u001b[1m5s\u001b[0m 3ms/step - accuracy: 0.8206 - loss: 0.4531 - val_accuracy: 0.8210 - val_loss: 0.4475\n",
            "Epoch 8/50\n",
            "\u001b[1m1250/1250\u001b[0m \u001b[32m━━━━━━━━━━━━━━━━━━━━\u001b[0m\u001b[37m\u001b[0m \u001b[1m3s\u001b[0m 3ms/step - accuracy: 0.8268 - loss: 0.4421 - val_accuracy: 0.8220 - val_loss: 0.4460\n",
            "Epoch 9/50\n",
            "\u001b[1m1250/1250\u001b[0m \u001b[32m━━━━━━━━━━━━━━━━━━━━\u001b[0m\u001b[37m\u001b[0m \u001b[1m5s\u001b[0m 3ms/step - accuracy: 0.8238 - loss: 0.4495 - val_accuracy: 0.8229 - val_loss: 0.4450\n",
            "Epoch 10/50\n",
            "\u001b[1m1250/1250\u001b[0m \u001b[32m━━━━━━━━━━━━━━━━━━━━\u001b[0m\u001b[37m\u001b[0m \u001b[1m5s\u001b[0m 2ms/step - accuracy: 0.8206 - loss: 0.4480 - val_accuracy: 0.8198 - val_loss: 0.4562\n",
            "Epoch 11/50\n",
            "\u001b[1m1250/1250\u001b[0m \u001b[32m━━━━━━━━━━━━━━━━━━━━\u001b[0m\u001b[37m\u001b[0m \u001b[1m4s\u001b[0m 3ms/step - accuracy: 0.8283 - loss: 0.4353 - val_accuracy: 0.8238 - val_loss: 0.4468\n",
            "Epoch 12/50\n",
            "\u001b[1m1250/1250\u001b[0m \u001b[32m━━━━━━━━━━━━━━━━━━━━\u001b[0m\u001b[37m\u001b[0m \u001b[1m5s\u001b[0m 3ms/step - accuracy: 0.8258 - loss: 0.4407 - val_accuracy: 0.8205 - val_loss: 0.4496\n",
            "Epoch 13/50\n",
            "\u001b[1m1250/1250\u001b[0m \u001b[32m━━━━━━━━━━━━━━━━━━━━\u001b[0m\u001b[37m\u001b[0m \u001b[1m5s\u001b[0m 3ms/step - accuracy: 0.8235 - loss: 0.4456 - val_accuracy: 0.8232 - val_loss: 0.4562\n",
            "Epoch 14/50\n",
            "\u001b[1m1250/1250\u001b[0m \u001b[32m━━━━━━━━━━━━━━━━━━━━\u001b[0m\u001b[37m\u001b[0m \u001b[1m6s\u001b[0m 3ms/step - accuracy: 0.8291 - loss: 0.4359 - val_accuracy: 0.8219 - val_loss: 0.4457\n",
            "Epoch 15/50\n",
            "\u001b[1m1250/1250\u001b[0m \u001b[32m━━━━━━━━━━━━━━━━━━━━\u001b[0m\u001b[37m\u001b[0m \u001b[1m4s\u001b[0m 3ms/step - accuracy: 0.8287 - loss: 0.4309 - val_accuracy: 0.8233 - val_loss: 0.4408\n",
            "Epoch 16/50\n",
            "\u001b[1m1250/1250\u001b[0m \u001b[32m━━━━━━━━━━━━━━━━━━━━\u001b[0m\u001b[37m\u001b[0m \u001b[1m3s\u001b[0m 2ms/step - accuracy: 0.8279 - loss: 0.4361 - val_accuracy: 0.8200 - val_loss: 0.4525\n",
            "Epoch 17/50\n",
            "\u001b[1m1250/1250\u001b[0m \u001b[32m━━━━━━━━━━━━━━━━━━━━\u001b[0m\u001b[37m\u001b[0m \u001b[1m6s\u001b[0m 3ms/step - accuracy: 0.8296 - loss: 0.4311 - val_accuracy: 0.8210 - val_loss: 0.4545\n",
            "Epoch 18/50\n",
            "\u001b[1m1250/1250\u001b[0m \u001b[32m━━━━━━━━━━━━━━━━━━━━\u001b[0m\u001b[37m\u001b[0m \u001b[1m3s\u001b[0m 3ms/step - accuracy: 0.8333 - loss: 0.4237 - val_accuracy: 0.8251 - val_loss: 0.4423\n",
            "Epoch 19/50\n",
            "\u001b[1m1250/1250\u001b[0m \u001b[32m━━━━━━━━━━━━━━━━━━━━\u001b[0m\u001b[37m\u001b[0m \u001b[1m5s\u001b[0m 3ms/step - accuracy: 0.8270 - loss: 0.4349 - val_accuracy: 0.8262 - val_loss: 0.4395\n",
            "Epoch 20/50\n",
            "\u001b[1m1250/1250\u001b[0m \u001b[32m━━━━━━━━━━━━━━━━━━━━\u001b[0m\u001b[37m\u001b[0m \u001b[1m5s\u001b[0m 2ms/step - accuracy: 0.8304 - loss: 0.4288 - val_accuracy: 0.8230 - val_loss: 0.4506\n",
            "Epoch 21/50\n",
            "\u001b[1m1250/1250\u001b[0m \u001b[32m━━━━━━━━━━━━━━━━━━━━\u001b[0m\u001b[37m\u001b[0m \u001b[1m5s\u001b[0m 2ms/step - accuracy: 0.8340 - loss: 0.4261 - val_accuracy: 0.8247 - val_loss: 0.4482\n",
            "Epoch 22/50\n",
            "\u001b[1m1250/1250\u001b[0m \u001b[32m━━━━━━━━━━━━━━━━━━━━\u001b[0m\u001b[37m\u001b[0m \u001b[1m6s\u001b[0m 3ms/step - accuracy: 0.8329 - loss: 0.4272 - val_accuracy: 0.8251 - val_loss: 0.4377\n",
            "Epoch 23/50\n",
            "\u001b[1m1250/1250\u001b[0m \u001b[32m━━━━━━━━━━━━━━━━━━━━\u001b[0m\u001b[37m\u001b[0m \u001b[1m4s\u001b[0m 2ms/step - accuracy: 0.8291 - loss: 0.4304 - val_accuracy: 0.8206 - val_loss: 0.4474\n",
            "Epoch 24/50\n",
            "\u001b[1m1250/1250\u001b[0m \u001b[32m━━━━━━━━━━━━━━━━━━━━\u001b[0m\u001b[37m\u001b[0m \u001b[1m6s\u001b[0m 3ms/step - accuracy: 0.8320 - loss: 0.4252 - val_accuracy: 0.8237 - val_loss: 0.4390\n",
            "Epoch 25/50\n",
            "\u001b[1m1250/1250\u001b[0m \u001b[32m━━━━━━━━━━━━━━━━━━━━\u001b[0m\u001b[37m\u001b[0m \u001b[1m4s\u001b[0m 3ms/step - accuracy: 0.8347 - loss: 0.4221 - val_accuracy: 0.8221 - val_loss: 0.4559\n",
            "Epoch 26/50\n",
            "\u001b[1m1250/1250\u001b[0m \u001b[32m━━━━━━━━━━━━━━━━━━━━\u001b[0m\u001b[37m\u001b[0m \u001b[1m3s\u001b[0m 2ms/step - accuracy: 0.8337 - loss: 0.4196 - val_accuracy: 0.8264 - val_loss: 0.4417\n",
            "Epoch 27/50\n",
            "\u001b[1m1250/1250\u001b[0m \u001b[32m━━━━━━━━━━━━━━━━━━━━\u001b[0m\u001b[37m\u001b[0m \u001b[1m3s\u001b[0m 2ms/step - accuracy: 0.8278 - loss: 0.4327 - val_accuracy: 0.8262 - val_loss: 0.4379\n",
            "Epoch 28/50\n",
            "\u001b[1m1250/1250\u001b[0m \u001b[32m━━━━━━━━━━━━━━━━━━━━\u001b[0m\u001b[37m\u001b[0m \u001b[1m4s\u001b[0m 3ms/step - accuracy: 0.8301 - loss: 0.4299 - val_accuracy: 0.8258 - val_loss: 0.4419\n",
            "Epoch 29/50\n",
            "\u001b[1m1250/1250\u001b[0m \u001b[32m━━━━━━━━━━━━━━━━━━━━\u001b[0m\u001b[37m\u001b[0m \u001b[1m4s\u001b[0m 3ms/step - accuracy: 0.8346 - loss: 0.4173 - val_accuracy: 0.8254 - val_loss: 0.4421\n",
            "Epoch 30/50\n",
            "\u001b[1m1250/1250\u001b[0m \u001b[32m━━━━━━━━━━━━━━━━━━━━\u001b[0m\u001b[37m\u001b[0m \u001b[1m4s\u001b[0m 2ms/step - accuracy: 0.8333 - loss: 0.4227 - val_accuracy: 0.8244 - val_loss: 0.4467\n",
            "Epoch 31/50\n",
            "\u001b[1m1250/1250\u001b[0m \u001b[32m━━━━━━━━━━━━━━━━━━━━\u001b[0m\u001b[37m\u001b[0m \u001b[1m3s\u001b[0m 3ms/step - accuracy: 0.8320 - loss: 0.4229 - val_accuracy: 0.8222 - val_loss: 0.4521\n",
            "Epoch 32/50\n",
            "\u001b[1m1250/1250\u001b[0m \u001b[32m━━━━━━━━━━━━━━━━━━━━\u001b[0m\u001b[37m\u001b[0m \u001b[1m6s\u001b[0m 3ms/step - accuracy: 0.8327 - loss: 0.4229 - val_accuracy: 0.8244 - val_loss: 0.4529\n",
            "Epoch 33/50\n",
            "\u001b[1m1250/1250\u001b[0m \u001b[32m━━━━━━━━━━━━━━━━━━━━\u001b[0m\u001b[37m\u001b[0m \u001b[1m4s\u001b[0m 2ms/step - accuracy: 0.8320 - loss: 0.4226 - val_accuracy: 0.8227 - val_loss: 0.4524\n",
            "Epoch 34/50\n",
            "\u001b[1m1250/1250\u001b[0m \u001b[32m━━━━━━━━━━━━━━━━━━━━\u001b[0m\u001b[37m\u001b[0m \u001b[1m5s\u001b[0m 3ms/step - accuracy: 0.8317 - loss: 0.4254 - val_accuracy: 0.8251 - val_loss: 0.4474\n",
            "Epoch 35/50\n",
            "\u001b[1m1250/1250\u001b[0m \u001b[32m━━━━━━━━━━━━━━━━━━━━\u001b[0m\u001b[37m\u001b[0m \u001b[1m5s\u001b[0m 3ms/step - accuracy: 0.8373 - loss: 0.4120 - val_accuracy: 0.8226 - val_loss: 0.4540\n",
            "Epoch 36/50\n",
            "\u001b[1m1250/1250\u001b[0m \u001b[32m━━━━━━━━━━━━━━━━━━━━\u001b[0m\u001b[37m\u001b[0m \u001b[1m3s\u001b[0m 3ms/step - accuracy: 0.8371 - loss: 0.4139 - val_accuracy: 0.8249 - val_loss: 0.4475\n",
            "Epoch 37/50\n",
            "\u001b[1m1250/1250\u001b[0m \u001b[32m━━━━━━━━━━━━━━━━━━━━\u001b[0m\u001b[37m\u001b[0m \u001b[1m3s\u001b[0m 3ms/step - accuracy: 0.8367 - loss: 0.4161 - val_accuracy: 0.8246 - val_loss: 0.4492\n",
            "Epoch 38/50\n",
            "\u001b[1m1250/1250\u001b[0m \u001b[32m━━━━━━━━━━━━━━━━━━━━\u001b[0m\u001b[37m\u001b[0m \u001b[1m4s\u001b[0m 3ms/step - accuracy: 0.8391 - loss: 0.4109 - val_accuracy: 0.8200 - val_loss: 0.4545\n",
            "Epoch 39/50\n",
            "\u001b[1m1250/1250\u001b[0m \u001b[32m━━━━━━━━━━━━━━━━━━━━\u001b[0m\u001b[37m\u001b[0m \u001b[1m3s\u001b[0m 2ms/step - accuracy: 0.8357 - loss: 0.4163 - val_accuracy: 0.8242 - val_loss: 0.4535\n",
            "Epoch 40/50\n",
            "\u001b[1m1250/1250\u001b[0m \u001b[32m━━━━━━━━━━━━━━━━━━━━\u001b[0m\u001b[37m\u001b[0m \u001b[1m3s\u001b[0m 3ms/step - accuracy: 0.8400 - loss: 0.4102 - val_accuracy: 0.8242 - val_loss: 0.4520\n",
            "Epoch 41/50\n",
            "\u001b[1m1250/1250\u001b[0m \u001b[32m━━━━━━━━━━━━━━━━━━━━\u001b[0m\u001b[37m\u001b[0m \u001b[1m3s\u001b[0m 3ms/step - accuracy: 0.8396 - loss: 0.4077 - val_accuracy: 0.8221 - val_loss: 0.4630\n",
            "Epoch 42/50\n",
            "\u001b[1m1250/1250\u001b[0m \u001b[32m━━━━━━━━━━━━━━━━━━━━\u001b[0m\u001b[37m\u001b[0m \u001b[1m5s\u001b[0m 2ms/step - accuracy: 0.8371 - loss: 0.4157 - val_accuracy: 0.8263 - val_loss: 0.4513\n",
            "Epoch 43/50\n",
            "\u001b[1m1250/1250\u001b[0m \u001b[32m━━━━━━━━━━━━━━━━━━━━\u001b[0m\u001b[37m\u001b[0m \u001b[1m5s\u001b[0m 3ms/step - accuracy: 0.8424 - loss: 0.4045 - val_accuracy: 0.8227 - val_loss: 0.4611\n",
            "Epoch 44/50\n",
            "\u001b[1m1250/1250\u001b[0m \u001b[32m━━━━━━━━━━━━━━━━━━━━\u001b[0m\u001b[37m\u001b[0m \u001b[1m6s\u001b[0m 4ms/step - accuracy: 0.8392 - loss: 0.4086 - val_accuracy: 0.8222 - val_loss: 0.4646\n",
            "Epoch 45/50\n",
            "\u001b[1m1250/1250\u001b[0m \u001b[32m━━━━━━━━━━━━━━━━━━━━\u001b[0m\u001b[37m\u001b[0m \u001b[1m3s\u001b[0m 3ms/step - accuracy: 0.8400 - loss: 0.4076 - val_accuracy: 0.8234 - val_loss: 0.4680\n",
            "Epoch 46/50\n",
            "\u001b[1m1250/1250\u001b[0m \u001b[32m━━━━━━━━━━━━━━━━━━━━\u001b[0m\u001b[37m\u001b[0m \u001b[1m5s\u001b[0m 3ms/step - accuracy: 0.8450 - loss: 0.4017 - val_accuracy: 0.8230 - val_loss: 0.4570\n",
            "Epoch 47/50\n",
            "\u001b[1m1250/1250\u001b[0m \u001b[32m━━━━━━━━━━━━━━━━━━━━\u001b[0m\u001b[37m\u001b[0m \u001b[1m5s\u001b[0m 4ms/step - accuracy: 0.8416 - loss: 0.4023 - val_accuracy: 0.8240 - val_loss: 0.4647\n",
            "Epoch 48/50\n",
            "\u001b[1m1250/1250\u001b[0m \u001b[32m━━━━━━━━━━━━━━━━━━━━\u001b[0m\u001b[37m\u001b[0m \u001b[1m3s\u001b[0m 2ms/step - accuracy: 0.8441 - loss: 0.3978 - val_accuracy: 0.8245 - val_loss: 0.4632\n",
            "Epoch 49/50\n",
            "\u001b[1m1250/1250\u001b[0m \u001b[32m━━━━━━━━━━━━━━━━━━━━\u001b[0m\u001b[37m\u001b[0m \u001b[1m5s\u001b[0m 3ms/step - accuracy: 0.8422 - loss: 0.4050 - val_accuracy: 0.8266 - val_loss: 0.4666\n",
            "Epoch 50/50\n",
            "\u001b[1m1250/1250\u001b[0m \u001b[32m━━━━━━━━━━━━━━━━━━━━\u001b[0m\u001b[37m\u001b[0m \u001b[1m4s\u001b[0m 3ms/step - accuracy: 0.8424 - loss: 0.4043 - val_accuracy: 0.8250 - val_loss: 0.4768\n",
            "\u001b[1m313/313\u001b[0m \u001b[32m━━━━━━━━━━━━━━━━━━━━\u001b[0m\u001b[37m\u001b[0m \u001b[1m1s\u001b[0m 2ms/step\n"
          ]
        },
        {
          "output_type": "stream",
          "name": "stderr",
          "text": [
            "WARNING:absl:You are saving your model as an HDF5 file via `model.save()` or `keras.saving.save_model(model)`. This file format is considered legacy. We recommend using instead the native Keras format, e.g. `model.save('my_model.keras')` or `keras.saving.save_model(model, 'my_model.keras')`. \n"
          ]
        },
        {
          "output_type": "stream",
          "name": "stdout",
          "text": [
            "Accuracy: 82.50%\n",
            "Confusion Matrix:\n",
            "[[ 510    3   80   14   18   21    3   31    4]\n",
            " [  24 1472   80   19   14   14    7   46    9]\n",
            " [  34    2 1146   22    6    8   14   48    8]\n",
            " [  24    3   92   25   14   12    7   42    9]\n",
            " [  29    2   92   17  256   13    6   40    4]\n",
            " [  25    2   88   17   14 1401    9   44    6]\n",
            " [  20    2   81   30    9    7 1426   50    5]\n",
            " [  22    2   82   23   20   17    6 1018    5]\n",
            " [  23   21   92   19   20    8    6   40  996]]\n",
            "Classification Report:\n",
            "              precision    recall  f1-score   support\n",
            "\n",
            "           0       0.72      0.75      0.73       684\n",
            "           1       0.98      0.87      0.92      1685\n",
            "           2       0.63      0.89      0.73      1288\n",
            "           3       0.13      0.11      0.12       228\n",
            "           4       0.69      0.56      0.62       459\n",
            "           5       0.93      0.87      0.90      1606\n",
            "           6       0.96      0.87      0.92      1630\n",
            "           7       0.75      0.85      0.80      1195\n",
            "           8       0.95      0.81      0.88      1225\n",
            "\n",
            "    accuracy                           0.82     10000\n",
            "   macro avg       0.75      0.73      0.74     10000\n",
            "weighted avg       0.84      0.82      0.83     10000\n",
            "\n"
          ]
        },
        {
          "output_type": "execute_result",
          "data": {
            "text/plain": [
              "['soil_type_mapping_complex_nn_model.pkl']"
            ]
          },
          "metadata": {},
          "execution_count": 10
        }
      ]
    },
    {
      "cell_type": "code",
      "source": [],
      "metadata": {
        "id": "x_KpcdmE4XBZ"
      },
      "execution_count": 10,
      "outputs": []
    }
  ]
}